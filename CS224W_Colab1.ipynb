{
 "cells": [
  {
   "cell_type": "markdown",
   "metadata": {
    "id": "XuXWJLEm2UWS"
   },
   "source": [
    "# **CS224W - Colab 1**"
   ]
  },
  {
   "cell_type": "markdown",
   "metadata": {
    "id": "8gzsP50bF6Gb"
   },
   "source": [
    "In this Colab, we will write a full pipeline for **learning node embeddings**.\n",
    "We will go through the following 3 steps.\n",
    "\n",
    "To start, we will load a classic graph in network science, the [Karate Club Network](https://en.wikipedia.org/wiki/Zachary%27s_karate_club). We will explore multiple graph statistics for that graph.\n",
    "\n",
    "We will then work together to transform the graph structure into a PyTorch tensor, so that we can perform machine learning over the graph.\n",
    "\n",
    "Finally, we will finish the first learning algorithm on graphs: a node embedding model. For simplicity, our model here is simpler than DeepWalk / node2vec algorithms taught in the lecture. But it's still rewarding and challenging, as we will write it from scratch via PyTorch.\n",
    "\n",
    "Now let's get started!\n",
    "\n",
    "**Note**: Make sure to **sequentially run all the cells**, so that the intermediate variables / packages will carry over to the next cell"
   ]
  },
  {
   "cell_type": "markdown",
   "metadata": {
    "id": "Nwwq0nSdmsOL"
   },
   "source": [
    "# 1 Graph Basics\n",
    "To start, we will load a classic graph in network science, the [Karate Club Network](https://en.wikipedia.org/wiki/Zachary%27s_karate_club). We will explore multiple graph statistics for that graph."
   ]
  },
  {
   "cell_type": "markdown",
   "metadata": {
    "id": "FDkpByYYfSzb"
   },
   "source": [
    "## Setup\n",
    "We will heavily use NetworkX in this Colab."
   ]
  },
  {
   "cell_type": "code",
   "execution_count": 1,
   "metadata": {
    "id": "VWPkJjPAfVNW"
   },
   "outputs": [],
   "source": [
    "import networkx as nx"
   ]
  },
  {
   "cell_type": "markdown",
   "metadata": {
    "id": "VqUnYT5qUZYh"
   },
   "source": [
    "## Zachary's karate club network\n",
    "\n",
    "The [Karate Club Network](https://en.wikipedia.org/wiki/Zachary%27s_karate_club) is a graph describes a social network of 34 members of a karate club and documents links between members who interacted outside the club."
   ]
  },
  {
   "cell_type": "code",
   "execution_count": 2,
   "metadata": {
    "colab": {
     "base_uri": "https://localhost:8080/"
    },
    "id": "VIETqEfrfy5Y",
    "outputId": "2f9e8ba3-4b18-42be-dec1-05cb8d2837c8"
   },
   "outputs": [
    {
     "data": {
      "text/plain": [
       "networkx.classes.graph.Graph"
      ]
     },
     "execution_count": 2,
     "metadata": {},
     "output_type": "execute_result"
    }
   ],
   "source": [
    "G = nx.karate_club_graph()\n",
    "\n",
    "# G is an undirected graph\n",
    "type(G)"
   ]
  },
  {
   "cell_type": "code",
   "execution_count": 3,
   "metadata": {
    "colab": {
     "base_uri": "https://localhost:8080/",
     "height": 318
    },
    "id": "hDvf3nm-ors4",
    "outputId": "14023a82-fe97-4064-8673-7300e987ffd1"
   },
   "outputs": [],
   "source": [
    "# Visualize the graph\n",
    "nx.draw(G, with_labels = True)"
   ]
  },
  {
   "cell_type": "markdown",
   "metadata": {
    "id": "FX25Y1CrYmgN"
   },
   "source": [
    "## Question 1: What is the average degree of the karate club network? (5 Points)"
   ]
  },
  {
   "cell_type": "code",
   "execution_count": 4,
   "metadata": {
    "colab": {
     "base_uri": "https://localhost:8080/"
    },
    "id": "AUhES1VYo3tB",
    "outputId": "77a151c2-9e33-425e-a708-51b976a40b48"
   },
   "outputs": [
    {
     "name": "stdout",
     "output_type": "stream",
     "text": [
      "Average degree of karate club network is 5\n"
     ]
    }
   ],
   "source": [
    "def average_degree(num_edges, num_nodes):\n",
    "    # TODO: Implement this function that takes number of edges\n",
    "    # and number of nodes, and returns the average node degree of \n",
    "    # the graph. Round the result to nearest integer (for example \n",
    "    # 3.3 will be rounded to 3 and 3.7 will be rounded to 4)\n",
    "\n",
    "    avg_degree = 0\n",
    "\n",
    "    ############# Your code here ############\n",
    "    avg_degree = round(2.0*num_edges/num_nodes)\n",
    "    #########################################\n",
    "\n",
    "    return avg_degree\n",
    "\n",
    "num_edges = G.number_of_edges()\n",
    "num_nodes = G.number_of_nodes()\n",
    "avg_degree = average_degree(num_edges, num_nodes)\n",
    "print(\"Average degree of karate club network is {}\".format(avg_degree))"
   ]
  },
  {
   "cell_type": "markdown",
   "metadata": {
    "id": "Fk02fD4vYmZI"
   },
   "source": [
    "## Question 2: What is the average clustering coefficient of the karate club network? (5 Points)"
   ]
  },
  {
   "cell_type": "code",
   "execution_count": 5,
   "metadata": {
    "colab": {
     "base_uri": "https://localhost:8080/"
    },
    "id": "k15XKEto1aYJ",
    "outputId": "0ef30024-a820-43e2-ba4c-ee4285bd4ce4"
   },
   "outputs": [
    {
     "name": "stdout",
     "output_type": "stream",
     "text": [
      "Average clustering coefficient of karate club network is 0.57\n"
     ]
    }
   ],
   "source": [
    "def average_clustering_coefficient(G):\n",
    "    # TODO: Implement this function that takes a nx.Graph\n",
    "    # and returns the average clustering coefficient. Round \n",
    "    # the result to 2 decimal places (for example 3.333 will\n",
    "    # be rounded to 3.33 and 3.7571 will be rounded to 3.76)\n",
    "\n",
    "    avg_cluster_coef = 0\n",
    "\n",
    "    ############# Your code here ############\n",
    "    ## Note: \n",
    "    ## 1: Please use the appropriate NetworkX clustering function\n",
    "    avg_cluster_coef = round(nx.average_clustering(G), 2)\n",
    "    #########################################\n",
    "\n",
    "    return avg_cluster_coef\n",
    "\n",
    "avg_cluster_coef = average_clustering_coefficient(G)\n",
    "print(\"Average clustering coefficient of karate club network is {}\".format(avg_cluster_coef))"
   ]
  },
  {
   "cell_type": "markdown",
   "metadata": {
    "id": "zghQ-AhXYmP4"
   },
   "source": [
    "## Question 3: What is the PageRank value for node 0 (node with id 0) after one PageRank iteration? (5 Points)\n",
    "\n",
    "Please complete the code block by implementing the PageRank equation: $r_j = \\sum_{i \\rightarrow j} \\beta \\frac{r_i}{d_i} + (1 - \\beta) \\frac{1}{N}$"
   ]
  },
  {
   "cell_type": "code",
   "execution_count": 6,
   "metadata": {},
   "outputs": [],
   "source": [
    "import numpy as np"
   ]
  },
  {
   "cell_type": "code",
   "execution_count": 7,
   "metadata": {
    "colab": {
     "base_uri": "https://localhost:8080/"
    },
    "id": "BOGdWjNc6O7x",
    "outputId": "5f10b403-0811-4efa-b0df-a1e831779824"
   },
   "outputs": [
    {
     "name": "stdout",
     "output_type": "stream",
     "text": [
      "The PageRank value for node 0 after one iteration is 0.13\n"
     ]
    }
   ],
   "source": [
    "def one_iter_pagerank(G, beta, r0, node_id):\n",
    "    # TODO: Implement this function that takes a nx.Graph, beta, r0 and node id.\n",
    "    # The return value r1 is one interation PageRank value for the input node.\n",
    "    # Please round r1 to 2 decimal places.\n",
    "\n",
    "    r1 = 0\n",
    "\n",
    "    ############# Your code here ############\n",
    "    ## Note: \n",
    "    ## 1: You should not use nx.pagerank\n",
    "    r1 = sum([beta*r0/G.degree(nb) for nb in G.neighbors(node_id)])\n",
    "    r1 = round(r1 + (1-beta)/G.number_of_nodes(), 2)\n",
    "    #########################################\n",
    "\n",
    "    return r1\n",
    "\n",
    "beta = 0.8\n",
    "r0 = 1 / G.number_of_nodes()\n",
    "node = 0\n",
    "r1 = one_iter_pagerank(G, beta, r0, node)\n",
    "print(\"The PageRank value for node 0 after one iteration is {}\".format(r1))"
   ]
  },
  {
   "cell_type": "markdown",
   "metadata": {
    "id": "icTcOULeYmIu"
   },
   "source": [
    "## Question 4: What is the (raw) closeness centrality for the karate club network node 5? (5 Points)\n",
    "\n",
    "The equation for closeness centrality is $c(v) = \\frac{1}{\\sum_{u \\neq v}\\text{shortest path length between } u \\text{ and } v}$"
   ]
  },
  {
   "cell_type": "code",
   "execution_count": 15,
   "metadata": {
    "colab": {
     "base_uri": "https://localhost:8080/"
    },
    "id": "XbCsq_tl-3ok",
    "outputId": "7520a487-4511-4252-d792-951061244595"
   },
   "outputs": [
    {
     "name": "stdout",
     "output_type": "stream",
     "text": [
      "The node 5 has closeness centrality 0.01\n"
     ]
    }
   ],
   "source": [
    "def closeness_centrality(G, node=5):\n",
    "    # TODO: Implement the function that calculates closeness centrality \n",
    "    # for a node in karate club network. G is the input karate club \n",
    "    # network and node is the node id in the graph. Please round the \n",
    "    # closeness centrality result to 2 decimal places.\n",
    "\n",
    "    closeness = 0\n",
    "\n",
    "    ## Note:\n",
    "    ## 1: You can use networkx closeness centrality function.\n",
    "    ## 2: Notice that networkx closeness centrality returns the normalized \n",
    "    ## closeness directly, which is different from the raw (unnormalized) \n",
    "    ## one that we learned in the lecture.\n",
    "\n",
    "    num_nodes = G.number_of_nodes()\n",
    "    assert num_nodes > 1\n",
    "    closeness = nx.closeness_centrality(G, node)/(num_nodes-1)\n",
    "    closeness = round(closeness, 2)\n",
    "    #########################################\n",
    "    \n",
    "    return closeness\n",
    "\n",
    "node = 5\n",
    "closeness = closeness_centrality(G, node=node)\n",
    "print(\"The node 5 has closeness centrality {}\".format(closeness))"
   ]
  },
  {
   "cell_type": "markdown",
   "metadata": {
    "id": "-MxvowibYl4x"
   },
   "source": [
    "# 2 Graph to Tensor\n",
    "We will then work together to transform the graph $G$ into a PyTorch tensor, so that we can perform machine learning over the graph."
   ]
  },
  {
   "cell_type": "markdown",
   "metadata": {
    "id": "eDA8PosrA-9V"
   },
   "source": [
    "## Setup\n",
    "Check if PyTorch is properly installed"
   ]
  },
  {
   "cell_type": "code",
   "execution_count": null,
   "metadata": {
    "colab": {
     "base_uri": "https://localhost:8080/"
    },
    "id": "ntuPVat_BAf1",
    "outputId": "307ab4e7-9989-4662-a621-c97f9cbe48b4"
   },
   "outputs": [],
   "source": [
    "import torch\n",
    "print(torch.__version__)"
   ]
  },
  {
   "cell_type": "markdown",
   "metadata": {
    "id": "fko_2wSKYlun"
   },
   "source": [
    "## PyTorch tensor basics\n",
    "\n",
    "We can generate PyTorch tensor with all zeros, ones or random values."
   ]
  },
  {
   "cell_type": "code",
   "execution_count": 17,
   "metadata": {
    "colab": {
     "base_uri": "https://localhost:8080/"
    },
    "id": "W2ySw3m-A9qF",
    "outputId": "2c7e46b1-8546-4faa-f80c-2aee95369ba3"
   },
   "outputs": [
    {
     "name": "stdout",
     "output_type": "stream",
     "text": [
      "tensor([[1., 1., 1., 1.],\n",
      "        [1., 1., 1., 1.],\n",
      "        [1., 1., 1., 1.]])\n",
      "tensor([[0., 0., 0., 0.],\n",
      "        [0., 0., 0., 0.],\n",
      "        [0., 0., 0., 0.]])\n",
      "tensor([[0.2687, 0.5310, 0.0336, 0.7818],\n",
      "        [0.8077, 0.9576, 0.9671, 0.9790],\n",
      "        [0.1420, 0.4513, 0.6405, 0.4094]])\n",
      "torch.Size([3, 4])\n"
     ]
    }
   ],
   "source": [
    "# Generate 3 x 4 tensor with all ones\n",
    "ones = torch.ones(3, 4)\n",
    "print(ones)\n",
    "\n",
    "# Generate 3 x 4 tensor with all zeros\n",
    "zeros = torch.zeros(3, 4)\n",
    "print(zeros)\n",
    "\n",
    "# Generate 3 x 4 tensor with random values on the interval [0, 1)\n",
    "random_tensor = torch.rand(3, 4)\n",
    "print(random_tensor)\n",
    "\n",
    "# Get the shape of the tensor\n",
    "print(ones.shape)"
   ]
  },
  {
   "cell_type": "markdown",
   "metadata": {
    "id": "x8mp66eHBxWC"
   },
   "source": [
    "PyTorch tensor contains elements for a single data type, the `dtype`."
   ]
  },
  {
   "cell_type": "code",
   "execution_count": 18,
   "metadata": {
    "colab": {
     "base_uri": "https://localhost:8080/"
    },
    "id": "rQiOvKJJBwq4",
    "outputId": "262eefb9-d91d-4d0a-ce3f-bb210b297f89"
   },
   "outputs": [
    {
     "name": "stdout",
     "output_type": "stream",
     "text": [
      "torch.float32\n",
      "torch.int64\n"
     ]
    }
   ],
   "source": [
    "# Create a 3 x 4 tensor with all 32-bit floating point zeros\n",
    "zeros = torch.zeros(3, 4, dtype=torch.float32)\n",
    "print(zeros.dtype)\n",
    "\n",
    "# Change the tensor dtype to 64-bit integer\n",
    "zeros = zeros.type(torch.long)\n",
    "print(zeros.dtype)"
   ]
  },
  {
   "cell_type": "markdown",
   "metadata": {
    "id": "I9EfegIRDkk2"
   },
   "source": [
    "## Question 5: Get the edge list of the karate club network and transform it into `torch.LongTensor`. What is the `torch.sum` value of `pos_edge_index` tensor? (10 Points)"
   ]
  },
  {
   "cell_type": "code",
   "execution_count": 19,
   "metadata": {
    "colab": {
     "base_uri": "https://localhost:8080/"
    },
    "id": "kEtVxMFID3ZT",
    "outputId": "d55c1904-b9b1-4d75-cbb6-43ea505da042"
   },
   "outputs": [
    {
     "name": "stdout",
     "output_type": "stream",
     "text": [
      "The pos_edge_index tensor has shape torch.Size([2, 78])\n",
      "The pos_edge_index tensor has sum value 2535\n"
     ]
    }
   ],
   "source": [
    "def graph_to_edge_list(G):\n",
    "    # TODO: Implement the function that returns the edge list of\n",
    "    # an nx.Graph. The returned edge_list should be a list of tuples\n",
    "    # where each tuple is a tuple representing an edge connected \n",
    "    # by two nodes.\n",
    "\n",
    "    edge_list = []\n",
    "\n",
    "    ############# Your code here ############\n",
    "    edge_list = list(G.edges)\n",
    "    #########################################\n",
    "\n",
    "    return edge_list\n",
    "\n",
    "def edge_list_to_tensor(edge_list):\n",
    "    # TODO: Implement the function that transforms the edge_list to\n",
    "    # tensor. The input edge_list is a list of tuples and the resulting\n",
    "    # tensor should have the shape [2 x len(edge_list)].\n",
    "\n",
    "    edge_index = torch.tensor([])\n",
    "\n",
    "    ############# Your code here ############\n",
    "    edge_index = torch.LongTensor(edge_list).T\n",
    "    #########################################\n",
    "\n",
    "    return edge_index\n",
    "\n",
    "pos_edge_list = graph_to_edge_list(G)\n",
    "pos_edge_index = edge_list_to_tensor(pos_edge_list)\n",
    "print(\"The pos_edge_index tensor has shape {}\".format(pos_edge_index.shape))\n",
    "print(\"The pos_edge_index tensor has sum value {}\".format(torch.sum(pos_edge_index)))"
   ]
  },
  {
   "cell_type": "markdown",
   "metadata": {
    "id": "UBL-ZmdHWqIu"
   },
   "source": [
    "## Question 6: Please implement following function that samples negative edges. Then answer which edges (edge_1 to edge_5) can be potential negative edges in the karate club network? (10 Points)"
   ]
  },
  {
   "cell_type": "code",
   "execution_count": 20,
   "metadata": {},
   "outputs": [],
   "source": [
    "from torch_geometric import utils"
   ]
  },
  {
   "cell_type": "code",
   "execution_count": 21,
   "metadata": {
    "colab": {
     "base_uri": "https://localhost:8080/"
    },
    "id": "9N8VT1f8-IJ8",
    "outputId": "27ee01b1-db56-4cb8-c8dc-dfa6d924ecd0"
   },
   "outputs": [
    {
     "name": "stdout",
     "output_type": "stream",
     "text": [
      "The neg_edge_index tensor has shape torch.Size([2, 78])\n",
      "Edge (7, 1) cannot be negative\n",
      "Edge (1, 33) can be negative\n",
      "Edge (33, 22) cannot be negative\n",
      "Edge (0, 4) cannot be negative\n",
      "Edge (4, 2) can be negative\n"
     ]
    }
   ],
   "source": [
    "import random\n",
    "\n",
    "def sample_negative_edges(G, num_neg_samples):\n",
    "    # TODO: Implement the function that returns a list of negative edges.\n",
    "    # The number of sampled negative edges is num_neg_samples. You do not\n",
    "    # need to consider the corner case when the number of possible negative edges\n",
    "    # is less than num_neg_samples. It should be ok as long as your implementation \n",
    "    # works on the karate club network. In this implementation, self loops should \n",
    "    # not be considered as either a positive or negative edge. Also, notice that \n",
    "    # the karate club network is an undirected graph, if (0, 1) is a positive \n",
    "    # edge, do you think (1, 0) can be a negative one?\n",
    "\n",
    "    neg_edge_list = []\n",
    "\n",
    "    ############# Your code here ############\n",
    "    pos_edge_list = graph_to_edge_list(G)\n",
    "    pos_edge_set = set(pos_edge_list)\n",
    "    neg_edge_set = set()\n",
    "    while len(neg_edge_set) < num_neg_samples:\n",
    "        i, j = random.sample(G.nodes, 2)\n",
    "        if ((i, j) not in pos_edge_set and (i, j) not in neg_edge_set and\n",
    "            (j, i) not in pos_edge_set and (j, i) not in neg_edge_set):\n",
    "            neg_edge_set.add((i, j))\n",
    "    neg_edge_list = list(neg_edge_set)\n",
    "    #########################################\n",
    "\n",
    "    return neg_edge_list\n",
    "\n",
    "# Sample 78 negative edges\n",
    "neg_edge_list = sample_negative_edges(G, len(pos_edge_list))\n",
    "\n",
    "# Transform the negative edge list to tensor\n",
    "neg_edge_index = edge_list_to_tensor(neg_edge_list)\n",
    "print(\"The neg_edge_index tensor has shape {}\".format(neg_edge_index.shape))\n",
    "\n",
    "# Which of following edges can be negative ones?\n",
    "edge_1 = (7, 1)\n",
    "edge_2 = (1, 33)\n",
    "edge_3 = (33, 22)\n",
    "edge_4 = (0, 4)\n",
    "edge_5 = (4, 2)\n",
    "\n",
    "############# Your code here ############\n",
    "## Note:\n",
    "## 1: For each of the 5 edges, print whether it can be negative edge\n",
    "for edge in [edge_1, edge_2, edge_3, edge_4, edge_5]:\n",
    "    if edge in G.edges:\n",
    "        print(f'Edge {edge} cannot be negative')\n",
    "    else:\n",
    "        print(f'Edge {edge} can be negative')\n",
    "#########################################"
   ]
  },
  {
   "cell_type": "markdown",
   "metadata": {
    "id": "Wk9Q-a-9qGsw"
   },
   "source": [
    "# 3 Node Emebedding Learning\n",
    "\n",
    "Finally, we will finish the first learning algorithm on graphs: a node embedding model.\n"
   ]
  },
  {
   "cell_type": "markdown",
   "metadata": {
    "id": "NDBxRQcZ_dUH"
   },
   "source": [
    "## Setup"
   ]
  },
  {
   "cell_type": "code",
   "execution_count": 22,
   "metadata": {
    "id": "Lnqn9H6s_ehX"
   },
   "outputs": [
    {
     "name": "stdout",
     "output_type": "stream",
     "text": [
      "1.10.2\n"
     ]
    }
   ],
   "source": [
    "import torch\n",
    "import torch.nn as nn\n",
    "import matplotlib.pyplot as plt\n",
    "from sklearn.decomposition import PCA\n",
    "\n",
    "print(torch.__version__)"
   ]
  },
  {
   "cell_type": "markdown",
   "metadata": {
    "id": "6gomAf8vxq0R"
   },
   "source": [
    "To write our own node embedding learning methods, we'll heavily use the [`nn.Embedding`](https://pytorch.org/docs/stable/generated/torch.nn.Embedding.html) module in PyTorch. Let's see how to use `nn.Embedding`:"
   ]
  },
  {
   "cell_type": "code",
   "execution_count": 23,
   "metadata": {
    "id": "aRiWGuLAx5yx"
   },
   "outputs": [
    {
     "name": "stdout",
     "output_type": "stream",
     "text": [
      "Sample embedding layer: Embedding(4, 8)\n"
     ]
    }
   ],
   "source": [
    "# Initialize an embedding layer\n",
    "# Suppose we want to have embedding for 4 items (e.g., nodes)\n",
    "# Each item is represented with 8 dimensional vector\n",
    "\n",
    "emb_sample = nn.Embedding(num_embeddings=4, embedding_dim=8)\n",
    "print('Sample embedding layer: {}'.format(emb_sample))"
   ]
  },
  {
   "cell_type": "markdown",
   "metadata": {
    "id": "bS9qQfeujEVh"
   },
   "source": [
    "We can select items from the embedding matrix, by using Tensor indices"
   ]
  },
  {
   "cell_type": "code",
   "execution_count": 24,
   "metadata": {
    "id": "9AGIfP4QEDr8"
   },
   "outputs": [
    {
     "name": "stdout",
     "output_type": "stream",
     "text": [
      "tensor([[ 1.3429,  1.1286, -0.4404, -1.1768,  0.2007,  1.8940,  0.0503,  0.9774]],\n",
      "       grad_fn=<EmbeddingBackward0>)\n",
      "tensor([[ 1.3429,  1.1286, -0.4404, -1.1768,  0.2007,  1.8940,  0.0503,  0.9774],\n",
      "        [ 0.2772, -0.4291,  0.9344, -0.2167,  1.4956,  0.5439,  1.7654,  2.5125]],\n",
      "       grad_fn=<EmbeddingBackward0>)\n",
      "torch.Size([4, 8])\n",
      "tensor([[1., 1., 1., 1., 1., 1., 1., 1.],\n",
      "        [1., 1., 1., 1., 1., 1., 1., 1.]], grad_fn=<EmbeddingBackward0>)\n"
     ]
    }
   ],
   "source": [
    "# Select an embedding in emb_sample\n",
    "id = torch.LongTensor([1])\n",
    "print(emb_sample(id))\n",
    "\n",
    "# Select multiple embeddings\n",
    "ids = torch.LongTensor([1, 3])\n",
    "print(emb_sample(ids))\n",
    "\n",
    "# Get the shape of the embedding weight matrix\n",
    "shape = emb_sample.weight.data.shape\n",
    "print(shape)\n",
    "\n",
    "# Overwrite the weight to tensor with all ones\n",
    "emb_sample.weight.data = torch.ones(shape)\n",
    "\n",
    "# Let's check if the emb is indeed initilized\n",
    "ids = torch.LongTensor([0, 3])\n",
    "print(emb_sample(ids))"
   ]
  },
  {
   "cell_type": "markdown",
   "metadata": {
    "id": "8MjBuDKaKIsM"
   },
   "source": [
    "Now, it's your time to create node embedding matrix for the graph we have!\n",
    "- We want to have **16 dimensional** vector for each node in the karate club network.\n",
    "- We want to initalize the matrix under **uniform distribution**, in the range of $[0, 1)$. We suggest you using [`torch.rand`](https://pytorch.org/docs/stable/generated/torch.rand.html)."
   ]
  },
  {
   "cell_type": "code",
   "execution_count": 26,
   "metadata": {
    "id": "hMszSwRPKGn1"
   },
   "outputs": [
    {
     "name": "stdout",
     "output_type": "stream",
     "text": [
      "Embedding: Embedding(34, 16)\n",
      "tensor([[0.7576, 0.2793, 0.4031, 0.7347, 0.0293, 0.7999, 0.3971, 0.7544, 0.5695,\n",
      "         0.4388, 0.6387, 0.5247, 0.6826, 0.3051, 0.4635, 0.4550],\n",
      "        [0.3556, 0.4452, 0.0193, 0.2616, 0.7713, 0.3785, 0.9980, 0.9008, 0.4766,\n",
      "         0.1663, 0.8045, 0.6552, 0.1768, 0.8248, 0.8036, 0.9434]])\n"
     ]
    }
   ],
   "source": [
    "# Please do not change / reset the random seed\n",
    "torch.manual_seed(1)\n",
    "\n",
    "def create_node_emb(num_node=34, embedding_dim=16):\n",
    "    # TODO: Implement this function that will create the node embedding matrix.\n",
    "    # A torch.nn.Embedding layer will be returned. You do not need to change \n",
    "    # the values of num_node and embedding_dim. The weight matrix of returned \n",
    "    # layer should be initialized under uniform distribution. \n",
    "\n",
    "    emb = None\n",
    "\n",
    "    ############# Your code here ############\n",
    "    weight = torch.rand((num_node, embedding_dim))\n",
    "    emb = nn.Embedding.from_pretrained(weight)\n",
    "    #########################################\n",
    "\n",
    "    return emb\n",
    "\n",
    "emb = create_node_emb()\n",
    "ids = torch.LongTensor([0, 3])\n",
    "\n",
    "# Print the embedding layer\n",
    "print(\"Embedding: {}\".format(emb))\n",
    "\n",
    "# An example that gets the embeddings for node 0 and 3\n",
    "print(emb(ids))"
   ]
  },
  {
   "cell_type": "markdown",
   "metadata": {
    "id": "4QfoANibTzyh"
   },
   "source": [
    "## Visualize the initial node embeddings\n",
    "One good way to understand an embedding matrix, is to visualize it in a 2D space.\n",
    "Here, we have implemented an embedding visualization function for you.\n",
    "We first do PCA to reduce the dimensionality of embeddings to a 2D space.\n",
    "Then we visualize each point, colored by the community it belongs to."
   ]
  },
  {
   "cell_type": "code",
   "execution_count": 27,
   "metadata": {
    "id": "_LCoIkarhfYD"
   },
   "outputs": [
    {
     "data": {
      "image/png": "[encoded data removed]",
      "text/plain": [
       "<Figure size 640x480 with 1 Axes>"
      ]
     },
     "metadata": {},
     "output_type": "display_data"
    },
    {
     "data": {
      "image/png": "[encoded data removed]",
      "text/plain": [
       "<Figure size 600x600 with 1 Axes>"
      ]
     },
     "metadata": {},
     "output_type": "display_data"
    }
   ],
   "source": [
    "def visualize_emb(emb):\n",
    "    X = emb.weight.data.numpy()\n",
    "    pca = PCA(n_components=2)\n",
    "    components = pca.fit_transform(X)\n",
    "    plt.figure(figsize=(6, 6))\n",
    "    club1_x = []\n",
    "    club1_y = []\n",
    "    club2_x = []\n",
    "    club2_y = []\n",
    "    for node in G.nodes(data=True):\n",
    "        if node[1]['club'] == 'Mr. Hi':\n",
    "            club1_x.append(components[node[0]][0])\n",
    "            club1_y.append(components[node[0]][1])\n",
    "        else:\n",
    "            club2_x.append(components[node[0]][0])\n",
    "            club2_y.append(components[node[0]][1])\n",
    "    plt.scatter(club1_x, club1_y, color=\"red\", label=\"Mr. Hi\")\n",
    "    plt.scatter(club2_x, club2_y, color=\"blue\", label=\"Officer\")\n",
    "    plt.legend()\n",
    "    plt.show()\n",
    "\n",
    "# Visualize the initial random embeddding\n",
    "visualize_emb(emb)"
   ]
  },
  {
   "cell_type": "markdown",
   "metadata": {
    "id": "bQIyuEz9ANb2"
   },
   "source": [
    "## Question 7: Training the embedding! What is the best performance you can get? Please report both the best loss and accuracy on Gradescope. (20 Points)\n",
    "\n",
    "We want to optimize our embeddings for the task of classifying edges as positive or negative. Given an edge and the embeddings for each node, the dot product of the embeddings, followed by a sigmoid, should give us the likelihood of that edge being either positive (output of sigmoid > 0.5) or negative (output of sigmoid < 0.5).\n",
    "\n",
    "Note that we're using the functions you wrote in the previous questions, _as well as the variables initialized in previous cells_. If you're running into issues, make sure your answers to questions 1-6 are correct."
   ]
  },
  {
   "cell_type": "code",
   "execution_count": 28,
   "metadata": {
    "colab": {
     "base_uri": "https://localhost:8080/",
     "height": 255
    },
    "id": "RDeQTNNxqH0j",
    "outputId": "edd565ad-1305-4d65-8109-81a527bf869f"
   },
   "outputs": [],
   "source": [
    "from torch.optim import SGD\n",
    "import torch.nn as nn\n",
    "from torch.autograd import Variable\n",
    "\n",
    "def accuracy(pred, label):\n",
    "    # TODO: Implement the accuracy function. This function takes the \n",
    "    # pred tensor (the resulting tensor after sigmoid) and the label \n",
    "    # tensor (torch.LongTensor). Predicted value greater than 0.5 will \n",
    "    # be classified as label 1. Else it will be classified as label 0.\n",
    "    # The returned accuracy should be rounded to 4 decimal places. \n",
    "    # For example, accuracy 0.82956 will be rounded to 0.8296.\n",
    "\n",
    "    accu = 0.0\n",
    "\n",
    "    ############# Your code here ############\n",
    "    pred = pred > .5\n",
    "    accu = (pred == label).sum()/label.shape[0]\n",
    "    accu = round(accu.item(), 4)\n",
    "    #########################################\n",
    "\n",
    "    return accu"
   ]
  },
  {
   "cell_type": "code",
   "execution_count": 50,
   "metadata": {
    "colab": {
     "base_uri": "https://localhost:8080/",
     "height": 255
    },
    "id": "RDeQTNNxqH0j",
    "outputId": "edd565ad-1305-4d65-8109-81a527bf869f"
   },
   "outputs": [
    {
     "name": "stdout",
     "output_type": "stream",
     "text": [
      "torch.Size([2, 78])\n",
      "torch.Size([2, 156])\n",
      "Epoch 10/400: loss: 0.975 - accuracy: 0.500\n",
      "Epoch 20/400: loss: 0.510 - accuracy: 0.782\n",
      "Epoch 30/400: loss: 0.430 - accuracy: 0.917\n",
      "Epoch 40/400: loss: 0.336 - accuracy: 0.936\n",
      "Epoch 50/400: loss: 0.245 - accuracy: 0.974\n",
      "Epoch 60/400: loss: 0.178 - accuracy: 0.987\n",
      "Epoch 70/400: loss: 0.131 - accuracy: 1.000\n",
      "Epoch 80/400: loss: 0.099 - accuracy: 1.000\n",
      "Epoch 90/400: loss: 0.076 - accuracy: 1.000\n",
      "Epoch 100/400: loss: 0.060 - accuracy: 1.000\n",
      "Epoch 110/400: loss: 0.048 - accuracy: 1.000\n",
      "Epoch 120/400: loss: 0.040 - accuracy: 1.000\n",
      "Epoch 130/400: loss: 0.034 - accuracy: 1.000\n",
      "Epoch 140/400: loss: 0.029 - accuracy: 1.000\n",
      "Epoch 150/400: loss: 0.025 - accuracy: 1.000\n",
      "Epoch 160/400: loss: 0.022 - accuracy: 1.000\n",
      "Epoch 170/400: loss: 0.020 - accuracy: 1.000\n",
      "Epoch 180/400: loss: 0.018 - accuracy: 1.000\n",
      "Epoch 190/400: loss: 0.016 - accuracy: 1.000\n",
      "Epoch 200/400: loss: 0.015 - accuracy: 1.000\n",
      "Epoch 210/400: loss: 0.014 - accuracy: 1.000\n",
      "Epoch 220/400: loss: 0.013 - accuracy: 1.000\n",
      "Epoch 230/400: loss: 0.012 - accuracy: 1.000\n",
      "Epoch 240/400: loss: 0.011 - accuracy: 1.000\n",
      "Epoch 250/400: loss: 0.010 - accuracy: 1.000\n",
      "Epoch 260/400: loss: 0.010 - accuracy: 1.000\n",
      "Epoch 270/400: loss: 0.009 - accuracy: 1.000\n",
      "Epoch 280/400: loss: 0.009 - accuracy: 1.000\n",
      "Epoch 290/400: loss: 0.008 - accuracy: 1.000\n",
      "Epoch 300/400: loss: 0.008 - accuracy: 1.000\n",
      "Epoch 310/400: loss: 0.007 - accuracy: 1.000\n",
      "Epoch 320/400: loss: 0.007 - accuracy: 1.000\n",
      "Epoch 330/400: loss: 0.007 - accuracy: 1.000\n",
      "Epoch 340/400: loss: 0.006 - accuracy: 1.000\n",
      "Epoch 350/400: loss: 0.006 - accuracy: 1.000\n",
      "Epoch 360/400: loss: 0.006 - accuracy: 1.000\n",
      "Epoch 370/400: loss: 0.006 - accuracy: 1.000\n",
      "Epoch 380/400: loss: 0.006 - accuracy: 1.000\n",
      "Epoch 390/400: loss: 0.005 - accuracy: 1.000\n",
      "Epoch 400/400: loss: 0.005 - accuracy: 1.000\n"
     ]
    }
   ],
   "source": [
    "def train(emb, loss_fn, sigmoid, train_label, train_edge):\n",
    "    # TODO: Train the embedding layer here. You can also change epochs and \n",
    "    # learning rate. In general, you need to implement: \n",
    "    # (1) Get the embeddings of the nodes in train_edge\n",
    "    # (2) Dot product the embeddings between each node pair\n",
    "    # (3) Feed the dot product result into sigmoid\n",
    "    # (4) Feed the sigmoid output into the loss_fn\n",
    "    # (5) Print both loss and accuracy of each epoch \n",
    "    # (6) Update the embeddings using the loss and optimizer \n",
    "    # (as a sanity check, the loss should decrease during training)\n",
    "\n",
    "    epochs = 400\n",
    "    learning_rate = 0.3\n",
    "    \n",
    "    emb.weight.requires_grad = True\n",
    "    optimizer = SGD(emb.parameters(), lr=learning_rate, momentum=0.9)\n",
    "\n",
    "    for i in range(epochs):\n",
    "\n",
    "        ############# Your code here ############\n",
    "        pred = sigmoid(emb(train_edge).prod(axis=0).sum(axis=-1))\n",
    "        acc = accuracy(pred, train_label)\n",
    "        loss = loss_fn(pred, train_label)\n",
    "        optimizer.zero_grad()\n",
    "        loss.backward()\n",
    "        optimizer.step()\n",
    "        if i%10 == 9:\n",
    "            print(f'Epoch {i+1}/{epochs}: loss: {loss.item():.3f} - accuracy: {acc:.3f}')\n",
    "        #########################################\n",
    "\n",
    "loss_fn = nn.BCELoss()\n",
    "sigmoid = nn.Sigmoid()\n",
    "\n",
    "print(pos_edge_index.shape)\n",
    "\n",
    "# Generate the positive and negative labels\n",
    "pos_label = torch.ones(pos_edge_index.shape[1], )\n",
    "neg_label = torch.zeros(neg_edge_index.shape[1], )\n",
    "\n",
    "# Concat positive and negative labels into one tensor\n",
    "train_label = torch.cat([pos_label, neg_label], dim=0)\n",
    "\n",
    "# Concat positive and negative edges into one tensor\n",
    "# Since the network is very small, we do not split the edges into val/test sets\n",
    "train_edge = torch.cat([pos_edge_index, neg_edge_index], dim=1)\n",
    "print(train_edge.shape)\n",
    "\n",
    "train(emb, loss_fn, sigmoid, train_label, train_edge)"
   ]
  },
  {
   "cell_type": "markdown",
   "metadata": {
    "id": "WX2PSXnTDiNi"
   },
   "source": [
    "## Visualize the final node embeddings\n",
    "Visualize your final embedding here! \n",
    "You can visually compare the figure with the previous embedding figure. \n",
    "After training, you should oberserve that the two classes are more evidently separated. \n",
    "This is a great sanitity check for your implementation as well."
   ]
  },
  {
   "cell_type": "code",
   "execution_count": 51,
   "metadata": {
    "id": "MtNgl4VhYKow"
   },
   "outputs": [
    {
     "data": {
      "image/png": "[encoded data removed]",
      "text/plain": [
       "<Figure size 600x600 with 1 Axes>"
      ]
     },
     "metadata": {},
     "output_type": "display_data"
    }
   ],
   "source": [
    "# Visualize the final learned embedding\n",
    "visualize_emb(emb)"
   ]
  },
  {
   "cell_type": "markdown",
   "metadata": {
    "id": "FTNyrAoSVeq9"
   },
   "source": [
    "# Submission"
   ]
  },
  {
   "cell_type": "markdown",
   "metadata": {
    "id": "E_E7J_GkVhY_"
   },
   "source": [
    "In order to get credit, you must go submit your answers on Gradescope."
   ]
  }
 ],
 "metadata": {
  "colab": {
   "collapsed_sections": [],
   "machine_shape": "hm",
   "provenance": []
  },
  "kernelspec": {
   "display_name": "PyGeom (pyg)",
   "language": "python",
   "name": "pygeom"
  },
  "language_info": {
   "codemirror_mode": {
    "name": "ipython",
    "version": 3
   },
   "file_extension": ".py",
   "mimetype": "text/x-python",
   "name": "python",
   "nbconvert_exporter": "python",
   "pygments_lexer": "ipython3",
   "version": "3.8.10"
  }
 },
 "nbformat": 4,
 "nbformat_minor": 4
}
